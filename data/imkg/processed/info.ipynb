{
 "cells": [
  {
   "metadata": {},
   "cell_type": "code",
   "outputs": [],
   "execution_count": null,
   "source": "import pandas as pd",
   "id": "e5e6bc6bdf32150f"
  },
  {
   "metadata": {
    "ExecuteTime": {
     "end_time": "2025-03-20T15:16:35.617712Z",
     "start_time": "2025-03-20T15:16:35.549094Z"
    }
   },
   "cell_type": "code",
   "source": [
    "df = pd.read_csv('imkg_top_10_captions_per_template.csv')\n",
    "df.info()"
   ],
   "id": "ff6e9851cf08caae",
   "outputs": [
    {
     "name": "stdout",
     "output_type": "stream",
     "text": [
      "<class 'pandas.core.frame.DataFrame'>\n",
      "RangeIndex: 17006 entries, 0 to 17005\n",
      "Data columns (total 6 columns):\n",
      " #   Column          Non-Null Count  Dtype  \n",
      "---  ------          --------------  -----  \n",
      " 0   template_title  17006 non-null  object \n",
      " 1   meme_url        17006 non-null  object \n",
      " 2   views           17006 non-null  int64  \n",
      " 3   upvotes         17006 non-null  int64  \n",
      " 4   engagement      17006 non-null  float64\n",
      " 5   captions        17006 non-null  object \n",
      "dtypes: float64(1), int64(2), object(3)\n",
      "memory usage: 797.3+ KB\n"
     ]
    }
   ],
   "execution_count": 4
  },
  {
   "metadata": {
    "ExecuteTime": {
     "end_time": "2025-03-20T15:20:40.522598Z",
     "start_time": "2025-03-20T15:20:40.511474Z"
    }
   },
   "cell_type": "code",
   "source": [
    "unique_templates = df['template_title'].nunique()\n",
    "print(unique_templates)\n",
    "caption_counts = df.groupby('template_title').size()\n",
    "average_captions = caption_counts.mean()\n",
    "print(average_captions)"
   ],
   "id": "62b3902049889e50",
   "outputs": [
    {
     "name": "stdout",
     "output_type": "stream",
     "text": [
      "1750\n",
      "9.717714285714285\n"
     ]
    }
   ],
   "execution_count": 5
  },
  {
   "metadata": {
    "ExecuteTime": {
     "end_time": "2025-03-20T15:26:41.748612Z",
     "start_time": "2025-03-20T15:26:41.717625Z"
    }
   },
   "cell_type": "code",
   "source": [
    "df = pd.read_csv('imkg_meme_templates.csv')\n",
    "print(df.info())\n",
    "\n",
    "df2 = pd.read_csv('imkg_meme_templates_descriptions.csv')\n",
    "print(df2.info())"
   ],
   "id": "d7c8c915b49c5530",
   "outputs": [
    {
     "name": "stdout",
     "output_type": "stream",
     "text": [
      "<class 'pandas.core.frame.DataFrame'>\n",
      "RangeIndex: 1765 entries, 0 to 1764\n",
      "Data columns (total 3 columns):\n",
      " #   Column          Non-Null Count  Dtype \n",
      "---  ------          --------------  ----- \n",
      " 0   template_title  1765 non-null   object\n",
      " 1   template_id     1765 non-null   int64 \n",
      " 2   template_url    1765 non-null   object\n",
      "dtypes: int64(1), object(2)\n",
      "memory usage: 41.5+ KB\n",
      "None\n",
      "<class 'pandas.core.frame.DataFrame'>\n",
      "RangeIndex: 1765 entries, 0 to 1764\n",
      "Data columns (total 2 columns):\n",
      " #   Column        Non-Null Count  Dtype \n",
      "---  ------        --------------  ----- \n",
      " 0   template_url  1765 non-null   object\n",
      " 1   description   1765 non-null   object\n",
      "dtypes: object(2)\n",
      "memory usage: 27.7+ KB\n",
      "None\n"
     ]
    }
   ],
   "execution_count": 6
  },
  {
   "metadata": {
    "ExecuteTime": {
     "end_time": "2025-03-20T15:27:28.378848Z",
     "start_time": "2025-03-20T15:27:28.368110Z"
    }
   },
   "cell_type": "code",
   "source": [
    "df3 = pd.read_csv('imkg_meme_templates.csv')\n",
    "print(df3.info())"
   ],
   "id": "7aa072d38d57d5cd",
   "outputs": [
    {
     "name": "stdout",
     "output_type": "stream",
     "text": [
      "<class 'pandas.core.frame.DataFrame'>\n",
      "RangeIndex: 1765 entries, 0 to 1764\n",
      "Data columns (total 3 columns):\n",
      " #   Column          Non-Null Count  Dtype \n",
      "---  ------          --------------  ----- \n",
      " 0   template_title  1765 non-null   object\n",
      " 1   template_id     1765 non-null   int64 \n",
      " 2   template_url    1765 non-null   object\n",
      "dtypes: int64(1), object(2)\n",
      "memory usage: 41.5+ KB\n",
      "None\n"
     ]
    }
   ],
   "execution_count": 7
  },
  {
   "metadata": {
    "ExecuteTime": {
     "end_time": "2025-03-20T15:48:05.223984Z",
     "start_time": "2025-03-20T15:48:05.214642Z"
    }
   },
   "cell_type": "code",
   "source": [
    "# Open the file and read it line by line\n",
    "count = 0\n",
    "with open('imkg_meme_templates_descriptions.csv', encoding='utf-8') as f:\n",
    "    # Read and ignore the header line\n",
    "    header = f.readline()\n",
    "    # Process each subsequent line\n",
    "    for line in f:\n",
    "        # Split on the first comma only\n",
    "        parts = line.strip().split(',', 1)\n",
    "        if len(parts) < 2:\n",
    "            continue  # Skip any malformed lines\n",
    "        template_url, description = parts[0], parts[1]\n",
    "        # Remove any extra whitespace and surrounding quotes from the description\n",
    "        description_clean = description.strip().strip('\"').strip()\n",
    "        # Check if the cleaned description matches our target string\n",
    "        if description_clean == \"UNABLE TO DESCRIBE MEME TEMPLATE\":\n",
    "            count += 1\n",
    "\n",
    "print(f\"Number of instances of 'UNABLE TO DESCRIBE MEME TEMPLATE': {count}\")\n"
   ],
   "id": "65879091910c8e18",
   "outputs": [
    {
     "name": "stdout",
     "output_type": "stream",
     "text": [
      "Number of instances of 'UNABLE TO DESCRIBE MEME TEMPLATE': 1091\n"
     ]
    }
   ],
   "execution_count": 14
  },
  {
   "metadata": {
    "ExecuteTime": {
     "end_time": "2025-03-20T15:51:51.463428Z",
     "start_time": "2025-03-20T15:51:51.417843Z"
    }
   },
   "cell_type": "code",
   "source": [
    "df5 = pd.read_csv('imkg_final_proccessed.csv')\n",
    "df5.info()"
   ],
   "id": "a12851fda6d58658",
   "outputs": [
    {
     "name": "stdout",
     "output_type": "stream",
     "text": [
      "<class 'pandas.core.frame.DataFrame'>\n",
      "RangeIndex: 682 entries, 0 to 681\n",
      "Data columns (total 8 columns):\n",
      " #   Column                     Non-Null Count  Dtype \n",
      "---  ------                     --------------  ----- \n",
      " 0   template_id                682 non-null    int64 \n",
      " 1   template_url               682 non-null    object\n",
      " 2   template_title             682 non-null    object\n",
      " 3   total_views                682 non-null    int64 \n",
      " 4   total_upvotes              682 non-null    int64 \n",
      " 5   captions                   682 non-null    object\n",
      " 6   description                682 non-null    object\n",
      " 7   caption_style_explanation  682 non-null    object\n",
      "dtypes: int64(3), object(5)\n",
      "memory usage: 42.8+ KB\n"
     ]
    }
   ],
   "execution_count": 15
  },
  {
   "metadata": {
    "ExecuteTime": {
     "end_time": "2025-03-20T16:02:39.826929Z",
     "start_time": "2025-03-20T16:02:39.781165Z"
    }
   },
   "cell_type": "code",
   "source": [
    "import pandas as pd\n",
    "\n",
    "# Read the CSV file into a DataFrame\n",
    "df5 = pd.read_csv('imkg_final_proccessed.csv')\n",
    "\n",
    "# Clean the 'caption_style_explanation' column by removing leading/trailing whitespace\n",
    "df5['caption_style_explanation'] = df5['caption_style_explanation'].astype(str).str.strip()\n",
    "\n",
    "# Count the number of occurrences of \"UNABLE TO GENERATE EXPLANATION\"\n",
    "occurrences = (df5['caption_style_explanation'] == \"UNABLE TO GENERATE EXPLANATION\").sum()\n",
    "\n",
    "print(f\"Number of occurrences of 'UNABLE TO GENERATE EXPLANATION': {occurrences}\")\n"
   ],
   "id": "de0810fd1cb591c",
   "outputs": [
    {
     "name": "stdout",
     "output_type": "stream",
     "text": [
      "Number of occurrences of 'UNABLE TO GENERATE EXPLANATION': 0\n"
     ]
    }
   ],
   "execution_count": 16
  },
  {
   "metadata": {
    "ExecuteTime": {
     "end_time": "2025-03-20T16:04:55.781405Z",
     "start_time": "2025-03-20T16:04:55.735680Z"
    }
   },
   "cell_type": "code",
   "source": [
    "df6 = pd.read_csv('imkg_final_final_final_processor.csv')\n",
    "df6.info()"
   ],
   "id": "e57751a0c8aa73f3",
   "outputs": [
    {
     "name": "stdout",
     "output_type": "stream",
     "text": [
      "<class 'pandas.core.frame.DataFrame'>\n",
      "RangeIndex: 658 entries, 0 to 657\n",
      "Data columns (total 10 columns):\n",
      " #   Column                     Non-Null Count  Dtype \n",
      "---  ------                     --------------  ----- \n",
      " 0   template_id                658 non-null    int64 \n",
      " 1   template_url               658 non-null    object\n",
      " 2   template_title             658 non-null    object\n",
      " 3   total_views                658 non-null    int64 \n",
      " 4   total_upvotes              658 non-null    int64 \n",
      " 5   box_count                  658 non-null    int64 \n",
      " 6   about                      293 non-null    object\n",
      " 7   captions                   658 non-null    object\n",
      " 8   description                658 non-null    object\n",
      " 9   caption_style_explanation  658 non-null    object\n",
      "dtypes: int64(4), object(6)\n",
      "memory usage: 51.5+ KB\n"
     ]
    }
   ],
   "execution_count": 17
  }
 ],
 "metadata": {
  "kernelspec": {
   "display_name": "Python 3",
   "language": "python",
   "name": "python3"
  },
  "language_info": {
   "codemirror_mode": {
    "name": "ipython",
    "version": 2
   },
   "file_extension": ".py",
   "mimetype": "text/x-python",
   "name": "python",
   "nbconvert_exporter": "python",
   "pygments_lexer": "ipython2",
   "version": "2.7.6"
  }
 },
 "nbformat": 4,
 "nbformat_minor": 5
}
